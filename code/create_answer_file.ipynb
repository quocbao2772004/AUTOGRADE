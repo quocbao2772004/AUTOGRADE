{
 "cells": [
  {
   "cell_type": "code",
   "execution_count": null,
   "metadata": {},
   "outputs": [
    {
     "name": "stdout",
     "output_type": "stream",
     "text": [
      "File '/home/anonymous/code/AI/project/answer_key.csv' đã được tạo thành công!\n"
     ]
    }
   ],
   "source": [
    "import csv\n",
    "import random\n",
    "\n",
    "filename = \"/home/anonymous/code/AI/project/answer_key.csv\"\n",
    "\n",
    "with open(filename, mode=\"w\", newline=\"\") as file:\n",
    "    writer = csv.writer(file)\n",
    "    writer.writerow([\"Section\", \"Question\", \"Sub-question\", \"Answer\"])\n",
    "\n",
    "    for i in range(1, 41):\n",
    "        answer = random.choice([\"A\", \"B\", \"C\", \"D\"])\n",
    "        writer.writerow([\"I\", i, \"\", answer])\n",
    "\n",
    "    for i in range(1, 9):\n",
    "        for sub in [\"a\", \"b\", \"c\", \"d\"]:\n",
    "            answer = random.choice([True, False])\n",
    "            writer.writerow([\"II\", i, sub, answer])\n",
    "\n",
    "    list_answer = [\"-0.78\", \"1356\", \"24.6\", \"-0.8\", \"9525\" ,\"3333\"]\n",
    "    for i in range(len(list_answer)):\n",
    "        writer.writerow([\"III\", i+1, \"\", list_answer[i]])\n",
    "\n",
    "print(f\"File '{filename}' đã được tạo thành công!\")\n"
   ]
  }
 ],
 "metadata": {
  "kernelspec": {
   "display_name": "AUTOGRADE",
   "language": "python",
   "name": "python3"
  },
  "language_info": {
   "codemirror_mode": {
    "name": "ipython",
    "version": 3
   },
   "file_extension": ".py",
   "mimetype": "text/x-python",
   "name": "python",
   "nbconvert_exporter": "python",
   "pygments_lexer": "ipython3",
   "version": "3.8.20"
  }
 },
 "nbformat": 4,
 "nbformat_minor": 2
}
